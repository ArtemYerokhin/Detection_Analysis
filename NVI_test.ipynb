{
 "cells": [
  {
   "cell_type": "markdown",
   "id": "bcab38dd-832e-4f47-9315-8d1df97028cf",
   "metadata": {},
   "source": [
    "# Тестовое задание"
   ]
  },
  {
   "cell_type": "markdown",
   "id": "bca3747d-aa6a-4930-9a22-b63fee512b0e",
   "metadata": {
    "tags": []
   },
   "source": [
    "## Описание\n",
    "Даны результаты предсказания модели детекции головы котов и разметка датасета.\n",
    "## Задача\n",
    "Проанализировать результаты и качество предсказания модели (посчитать любые подходящие метрики) и оформить в виде презентации.\n",
    "## Описание данных\n",
    "Даны файлы predictions.xlsx - предсказания модели и ground_truth.xlsx - разметка датасета. В папке images представлены изображения, по которым проводилась детекция.\n",
    "\n",
    "`file` — название файла\n",
    "\n",
    "`pred_label` — предсказанный класс объекта (0 - нет головы кота, 1 - обнаружена голова кота)\n",
    "\n",
    "`pred_bbox` — предсказанный бокс объекта (x, y, ширина, высота - координаты центра и размер относительно ширины и высоты изображения)\n",
    "\n",
    "`truth_label` — истинный класс объекта\n",
    "\n",
    "`truth_bbox` — истинный бокс объекта"
   ]
  },
  {
   "cell_type": "markdown",
   "id": "8bc2510e-8980-466c-aade-e00367c39582",
   "metadata": {},
   "source": [
    "## Подготовка данных"
   ]
  },
  {
   "cell_type": "code",
   "execution_count": 1,
   "id": "d1ea760b-2330-441f-8d98-c117f4062499",
   "metadata": {},
   "outputs": [],
   "source": [
    "import pandas as pd\n",
    "import matplotlib.pyplot as plt\n",
    "import seaborn as sns\n",
    "from sklearn.metrics import accuracy_score, precision_score, recall_score, f1_score, confusion_matrix\n",
    "from shapely.geometry import Polygon\n",
    "\n",
    "plt.style.use('dark_background')"
   ]
  },
  {
   "cell_type": "code",
   "execution_count": 2,
   "id": "1f08b4f1-c6ec-4d09-ad8d-36000101134d",
   "metadata": {},
   "outputs": [],
   "source": [
    "\"\"\" Загрузка данных \"\"\"\n",
    "predictions = pd.read_excel(r'D:\\Учеба\\Data Scientist\\Проекты\\Тестовое NVI\\predictions.xlsx')\n",
    "ground_truth = pd.read_excel(r'D:\\Учеба\\Data Scientist\\Проекты\\Тестовое NVI\\ground_truth.xlsx')"
   ]
  },
  {
   "cell_type": "code",
   "execution_count": 3,
   "id": "a07ec6a9-bde7-4f43-a2cc-06e254f030ef",
   "metadata": {},
   "outputs": [
    {
     "data": {
      "text/html": [
       "<div>\n",
       "<style scoped>\n",
       "    .dataframe tbody tr th:only-of-type {\n",
       "        vertical-align: middle;\n",
       "    }\n",
       "\n",
       "    .dataframe tbody tr th {\n",
       "        vertical-align: top;\n",
       "    }\n",
       "\n",
       "    .dataframe thead th {\n",
       "        text-align: right;\n",
       "    }\n",
       "</style>\n",
       "<table border=\"1\" class=\"dataframe\">\n",
       "  <thead>\n",
       "    <tr style=\"text-align: right;\">\n",
       "      <th></th>\n",
       "      <th>file</th>\n",
       "      <th>pred_label</th>\n",
       "      <th>pred_bbox</th>\n",
       "    </tr>\n",
       "  </thead>\n",
       "  <tbody>\n",
       "    <tr>\n",
       "      <th>0</th>\n",
       "      <td>Image_AY1ZWZD5.jpg</td>\n",
       "      <td>0</td>\n",
       "      <td>NaN</td>\n",
       "    </tr>\n",
       "    <tr>\n",
       "      <th>1</th>\n",
       "      <td>Image_B2Z6BH7R.jpg</td>\n",
       "      <td>0</td>\n",
       "      <td>NaN</td>\n",
       "    </tr>\n",
       "    <tr>\n",
       "      <th>2</th>\n",
       "      <td>Image_YTXYC9BS.jpg</td>\n",
       "      <td>1</td>\n",
       "      <td>[0.56886, 0.476772, 0.35424, 0.580991]</td>\n",
       "    </tr>\n",
       "    <tr>\n",
       "      <th>3</th>\n",
       "      <td>Image_DBX2S91J.jpg</td>\n",
       "      <td>1</td>\n",
       "      <td>[0.63865, 0.198551, 0.4647, 0.298822]</td>\n",
       "    </tr>\n",
       "    <tr>\n",
       "      <th>4</th>\n",
       "      <td>Image_CPZW8OAO.jpg</td>\n",
       "      <td>1</td>\n",
       "      <td>[0.47552, 0.422169, 0.4088, 0.594699]</td>\n",
       "    </tr>\n",
       "  </tbody>\n",
       "</table>\n",
       "</div>"
      ],
      "text/plain": [
       "                 file  pred_label                               pred_bbox\n",
       "0  Image_AY1ZWZD5.jpg           0                                     NaN\n",
       "1  Image_B2Z6BH7R.jpg           0                                     NaN\n",
       "2  Image_YTXYC9BS.jpg           1  [0.56886, 0.476772, 0.35424, 0.580991]\n",
       "3  Image_DBX2S91J.jpg           1   [0.63865, 0.198551, 0.4647, 0.298822]\n",
       "4  Image_CPZW8OAO.jpg           1   [0.47552, 0.422169, 0.4088, 0.594699]"
      ]
     },
     "execution_count": 3,
     "metadata": {},
     "output_type": "execute_result"
    }
   ],
   "source": [
    "predictions.head()"
   ]
  },
  {
   "cell_type": "markdown",
   "id": "583b2b37-2442-424d-9a1b-d12beddf7848",
   "metadata": {},
   "source": [
    "Объединим данные с предсказаниями и истинными значениями в один датафрейм"
   ]
  },
  {
   "cell_type": "code",
   "execution_count": 4,
   "id": "bda8cdd4-1a49-4b85-a299-780d7f77100f",
   "metadata": {},
   "outputs": [],
   "source": [
    "full = predictions.set_index('file').join(ground_truth.set_index('file'))"
   ]
  },
  {
   "cell_type": "code",
   "execution_count": 5,
   "id": "0f8c97e9-dd82-4623-9db1-f2c8267af2b3",
   "metadata": {},
   "outputs": [
    {
     "name": "stdout",
     "output_type": "stream",
     "text": [
      "<class 'pandas.core.frame.DataFrame'>\n",
      "Index: 50 entries, Image_AY1ZWZD5.jpg to Image_WMD6T1QA.jpg\n",
      "Data columns (total 4 columns):\n",
      " #   Column       Non-Null Count  Dtype \n",
      "---  ------       --------------  ----- \n",
      " 0   pred_label   50 non-null     int64 \n",
      " 1   pred_bbox    35 non-null     object\n",
      " 2   truth_label  50 non-null     int64 \n",
      " 3   truth_bbox   28 non-null     object\n",
      "dtypes: int64(2), object(2)\n",
      "memory usage: 4.0+ KB\n"
     ]
    }
   ],
   "source": [
    "full.info()"
   ]
  },
  {
   "cell_type": "code",
   "execution_count": 6,
   "id": "45eba4ef-868c-4f38-b9e9-aff83ec31057",
   "metadata": {},
   "outputs": [
    {
     "data": {
      "text/html": [
       "<div>\n",
       "<style scoped>\n",
       "    .dataframe tbody tr th:only-of-type {\n",
       "        vertical-align: middle;\n",
       "    }\n",
       "\n",
       "    .dataframe tbody tr th {\n",
       "        vertical-align: top;\n",
       "    }\n",
       "\n",
       "    .dataframe thead th {\n",
       "        text-align: right;\n",
       "    }\n",
       "</style>\n",
       "<table border=\"1\" class=\"dataframe\">\n",
       "  <thead>\n",
       "    <tr style=\"text-align: right;\">\n",
       "      <th></th>\n",
       "      <th>pred_label</th>\n",
       "      <th>truth_label</th>\n",
       "    </tr>\n",
       "  </thead>\n",
       "  <tbody>\n",
       "    <tr>\n",
       "      <th>count</th>\n",
       "      <td>50.00000</td>\n",
       "      <td>50.000000</td>\n",
       "    </tr>\n",
       "    <tr>\n",
       "      <th>mean</th>\n",
       "      <td>0.70000</td>\n",
       "      <td>0.560000</td>\n",
       "    </tr>\n",
       "    <tr>\n",
       "      <th>std</th>\n",
       "      <td>0.46291</td>\n",
       "      <td>0.501427</td>\n",
       "    </tr>\n",
       "    <tr>\n",
       "      <th>min</th>\n",
       "      <td>0.00000</td>\n",
       "      <td>0.000000</td>\n",
       "    </tr>\n",
       "    <tr>\n",
       "      <th>25%</th>\n",
       "      <td>0.00000</td>\n",
       "      <td>0.000000</td>\n",
       "    </tr>\n",
       "    <tr>\n",
       "      <th>50%</th>\n",
       "      <td>1.00000</td>\n",
       "      <td>1.000000</td>\n",
       "    </tr>\n",
       "    <tr>\n",
       "      <th>75%</th>\n",
       "      <td>1.00000</td>\n",
       "      <td>1.000000</td>\n",
       "    </tr>\n",
       "    <tr>\n",
       "      <th>max</th>\n",
       "      <td>1.00000</td>\n",
       "      <td>1.000000</td>\n",
       "    </tr>\n",
       "  </tbody>\n",
       "</table>\n",
       "</div>"
      ],
      "text/plain": [
       "       pred_label  truth_label\n",
       "count    50.00000    50.000000\n",
       "mean      0.70000     0.560000\n",
       "std       0.46291     0.501427\n",
       "min       0.00000     0.000000\n",
       "25%       0.00000     0.000000\n",
       "50%       1.00000     1.000000\n",
       "75%       1.00000     1.000000\n",
       "max       1.00000     1.000000"
      ]
     },
     "execution_count": 6,
     "metadata": {},
     "output_type": "execute_result"
    }
   ],
   "source": [
    "full.describe()"
   ]
  },
  {
   "cell_type": "markdown",
   "id": "9ffac9e2-6598-4d0a-bb9b-c70c09a90fbb",
   "metadata": {},
   "source": [
    "Видно, что модель чаще предсказывает наличие объекта на изображении, чем он, в действительности, там есть."
   ]
  },
  {
   "cell_type": "markdown",
   "id": "2c16223a-bd47-454c-9ec0-4c899a0a07fd",
   "metadata": {},
   "source": [
    "## Расчет метрик"
   ]
  },
  {
   "cell_type": "code",
   "execution_count": 7,
   "id": "3df8203e-acd7-43db-ae20-86311aff3111",
   "metadata": {},
   "outputs": [
    {
     "name": "stdout",
     "output_type": "stream",
     "text": [
      "Значение метрики accuracy: 0.86\n"
     ]
    }
   ],
   "source": [
    "accuracy = accuracy_score(full.truth_label, full.pred_label)\n",
    "print(f'Значение метрики accuracy: {accuracy:.2f}')"
   ]
  },
  {
   "cell_type": "code",
   "execution_count": 8,
   "id": "2c2c9370-ca82-4161-8bfb-850600185839",
   "metadata": {},
   "outputs": [
    {
     "name": "stdout",
     "output_type": "stream",
     "text": [
      "Значение метрики precision: 0.80\n"
     ]
    }
   ],
   "source": [
    "precision = precision_score(full.truth_label, full.pred_label)\n",
    "print(f'Значение метрики precision: {precision:.2f}')"
   ]
  },
  {
   "cell_type": "code",
   "execution_count": 9,
   "id": "25e38e8a-7002-49a1-ba68-01b928a2f214",
   "metadata": {},
   "outputs": [
    {
     "name": "stdout",
     "output_type": "stream",
     "text": [
      "Значение метрики recall: 1.00\n"
     ]
    }
   ],
   "source": [
    "recall = recall_score(full.truth_label, full.pred_label)\n",
    "print(f'Значение метрики recall: {recall:.2f}')"
   ]
  },
  {
   "cell_type": "code",
   "execution_count": 10,
   "id": "c70978e9-3c5f-47b8-895a-60eb4356dde2",
   "metadata": {},
   "outputs": [
    {
     "name": "stdout",
     "output_type": "stream",
     "text": [
      "Значение метрики f1: 0.89\n"
     ]
    }
   ],
   "source": [
    "f1 = f1_score(full.truth_label, full.pred_label)\n",
    "print(f'Значение метрики f1: {f1:.2f}')"
   ]
  },
  {
   "cell_type": "markdown",
   "id": "f70cb60a-36d7-4b23-befd-848089358bf1",
   "metadata": {},
   "source": [
    "Посчитаем матрицу ошибок"
   ]
  },
  {
   "cell_type": "code",
   "execution_count": 11,
   "id": "7d17eee8-2358-4011-8a89-4ce5fef1e2ef",
   "metadata": {},
   "outputs": [
    {
     "data": {
      "text/plain": [
       "array([[15,  7],\n",
       "       [ 0, 28]], dtype=int64)"
      ]
     },
     "execution_count": 11,
     "metadata": {},
     "output_type": "execute_result"
    }
   ],
   "source": [
    "cm = confusion_matrix(full.truth_label, full.pred_label)\n",
    "cm"
   ]
  },
  {
   "cell_type": "markdown",
   "id": "424c3e97-9cd8-401b-bea7-de91283afe78",
   "metadata": {},
   "source": [
    "Напишем функцию для определения метрики IoU и вспомогательную функцию построения прямоугольников для боксов по координатам и размерам"
   ]
  },
  {
   "cell_type": "code",
   "execution_count": 12,
   "id": "6f52a3dd-8a27-40dc-9d32-d381dd5d70e8",
   "metadata": {},
   "outputs": [],
   "source": [
    "def rectangle(x, y, w, h):\n",
    "    rect = Polygon(((x - w / 2, y - h / 2), (x - w / 2, y + h / 2), \n",
    "            (x + w / 2, y + h / 2), (x + w / 2, y - h / 2)))\n",
    "    return rect\n",
    "\n",
    "def iou_score(row):\n",
    "    truth = [float(i.strip()) for i in row.truth_bbox[1: -1].split(',')]\n",
    "    truth_rect = rectangle(*truth)\n",
    "    \n",
    "    pred = [float(i.strip()) for i in row.pred_bbox[1: -1].split(',')]\n",
    "    pred_rect = rectangle(*pred)\n",
    "    \n",
    "    iou = truth_rect.intersection(pred_rect).area / truth_rect.union(pred_rect).area\n",
    "    return iou"
   ]
  },
  {
   "cell_type": "markdown",
   "id": "a70dcf6a-453e-4fcc-bb73-6a4ef04e31d4",
   "metadata": {
    "tags": []
   },
   "source": [
    "Создадим вспомогательную таблицу с истинно-положительными значениями в датасете"
   ]
  },
  {
   "cell_type": "code",
   "execution_count": 13,
   "id": "2d105a2f-2b6d-4659-b0e5-74bac5e3b653",
   "metadata": {
    "tags": []
   },
   "outputs": [
    {
     "data": {
      "text/html": [
       "<div>\n",
       "<style scoped>\n",
       "    .dataframe tbody tr th:only-of-type {\n",
       "        vertical-align: middle;\n",
       "    }\n",
       "\n",
       "    .dataframe tbody tr th {\n",
       "        vertical-align: top;\n",
       "    }\n",
       "\n",
       "    .dataframe thead th {\n",
       "        text-align: right;\n",
       "    }\n",
       "</style>\n",
       "<table border=\"1\" class=\"dataframe\">\n",
       "  <thead>\n",
       "    <tr style=\"text-align: right;\">\n",
       "      <th></th>\n",
       "      <th>pred_label</th>\n",
       "      <th>pred_bbox</th>\n",
       "      <th>truth_label</th>\n",
       "      <th>truth_bbox</th>\n",
       "    </tr>\n",
       "    <tr>\n",
       "      <th>file</th>\n",
       "      <th></th>\n",
       "      <th></th>\n",
       "      <th></th>\n",
       "      <th></th>\n",
       "    </tr>\n",
       "  </thead>\n",
       "  <tbody>\n",
       "    <tr>\n",
       "      <th>Image_DBX2S91J.jpg</th>\n",
       "      <td>1</td>\n",
       "      <td>[0.63865, 0.198551, 0.4647, 0.298822]</td>\n",
       "      <td>1</td>\n",
       "      <td>[0.678, 0.20457, 0.4364, 0.24793]</td>\n",
       "    </tr>\n",
       "    <tr>\n",
       "      <th>Image_CPZW8OAO.jpg</th>\n",
       "      <td>1</td>\n",
       "      <td>[0.47552, 0.422169, 0.4088, 0.594699]</td>\n",
       "      <td>1</td>\n",
       "      <td>[0.48533, 0.426627, 0.45522, 0.64988]</td>\n",
       "    </tr>\n",
       "    <tr>\n",
       "      <th>Image_CVRESW2M.jpg</th>\n",
       "      <td>1</td>\n",
       "      <td>[0.581975, 0.19309, 0.2755, 0.269598]</td>\n",
       "      <td>1</td>\n",
       "      <td>[0.586462, 0.200226, 0.300875, 0.298643]</td>\n",
       "    </tr>\n",
       "    <tr>\n",
       "      <th>Image_ACCFVSLA.jpg</th>\n",
       "      <td>1</td>\n",
       "      <td>[0.372436, 0.469481, 0.201818, 0.309672]</td>\n",
       "      <td>1</td>\n",
       "      <td>[0.665982, 0.322377, 0.203745, 0.356885]</td>\n",
       "    </tr>\n",
       "    <tr>\n",
       "      <th>Image_HSGPZGBX.jpg</th>\n",
       "      <td>1</td>\n",
       "      <td>[0.55142, 0.439925, 0.26788, 0.406175]</td>\n",
       "      <td>1</td>\n",
       "      <td>[0.55205, 0.436973, 0.30182, 0.441416]</td>\n",
       "    </tr>\n",
       "  </tbody>\n",
       "</table>\n",
       "</div>"
      ],
      "text/plain": [
       "                    pred_label                                 pred_bbox  \\\n",
       "file                                                                       \n",
       "Image_DBX2S91J.jpg           1     [0.63865, 0.198551, 0.4647, 0.298822]   \n",
       "Image_CPZW8OAO.jpg           1     [0.47552, 0.422169, 0.4088, 0.594699]   \n",
       "Image_CVRESW2M.jpg           1     [0.581975, 0.19309, 0.2755, 0.269598]   \n",
       "Image_ACCFVSLA.jpg           1  [0.372436, 0.469481, 0.201818, 0.309672]   \n",
       "Image_HSGPZGBX.jpg           1    [0.55142, 0.439925, 0.26788, 0.406175]   \n",
       "\n",
       "                    truth_label                                truth_bbox  \n",
       "file                                                                       \n",
       "Image_DBX2S91J.jpg            1         [0.678, 0.20457, 0.4364, 0.24793]  \n",
       "Image_CPZW8OAO.jpg            1     [0.48533, 0.426627, 0.45522, 0.64988]  \n",
       "Image_CVRESW2M.jpg            1  [0.586462, 0.200226, 0.300875, 0.298643]  \n",
       "Image_ACCFVSLA.jpg            1  [0.665982, 0.322377, 0.203745, 0.356885]  \n",
       "Image_HSGPZGBX.jpg            1    [0.55205, 0.436973, 0.30182, 0.441416]  "
      ]
     },
     "execution_count": 13,
     "metadata": {},
     "output_type": "execute_result"
    }
   ],
   "source": [
    "tp = full[(full.pred_label == 1) & (full.truth_label == 1)]\n",
    "tp.head()"
   ]
  },
  {
   "cell_type": "markdown",
   "id": "f688bc6c-142b-4744-be06-a6d9abae96da",
   "metadata": {},
   "source": [
    "Добавим дополнительный столбец с рассчетом метрики IoU"
   ]
  },
  {
   "cell_type": "code",
   "execution_count": 14,
   "id": "8262e6a5-2b91-4e42-aef6-eeead1475b4e",
   "metadata": {
    "collapsed": true,
    "jupyter": {
     "outputs_hidden": true
    },
    "tags": []
   },
   "outputs": [
    {
     "name": "stderr",
     "output_type": "stream",
     "text": [
      "E:\\Anaconda\\lib\\site-packages\\shapely\\set_operations.py:133: RuntimeWarning: invalid value encountered in intersection\n",
      "  return lib.intersection(a, b, **kwargs)\n",
      "C:\\Users\\epoxa\\AppData\\Local\\Temp\\ipykernel_260\\2604550691.py:1: SettingWithCopyWarning: \n",
      "A value is trying to be set on a copy of a slice from a DataFrame.\n",
      "Try using .loc[row_indexer,col_indexer] = value instead\n",
      "\n",
      "See the caveats in the documentation: https://pandas.pydata.org/pandas-docs/stable/user_guide/indexing.html#returning-a-view-versus-a-copy\n",
      "  tp['iou'] = tp.apply(iou_score, axis=1)\n"
     ]
    }
   ],
   "source": [
    "tp['iou'] = tp.apply(iou_score, axis=1)"
   ]
  },
  {
   "cell_type": "code",
   "execution_count": 15,
   "id": "335dd764-d4e1-4027-8d0c-57ac8020dd6e",
   "metadata": {},
   "outputs": [
    {
     "name": "stdout",
     "output_type": "stream",
     "text": [
      "Среднее значение метрики IoU: 0.58\n"
     ]
    }
   ],
   "source": [
    "iou_mean = tp['iou'].mean()\n",
    "print(f'Среднее значение метрики IoU: {iou_mean:.2f}')"
   ]
  },
  {
   "cell_type": "markdown",
   "id": "f4968f46-6e42-4af8-8985-75dc82772eb4",
   "metadata": {},
   "source": [
    "Посчитаем долю объектов, у которых перекрытие боксов составляет менее 50%"
   ]
  },
  {
   "cell_type": "code",
   "execution_count": 17,
   "id": "cae014c2-f702-4854-9ce0-8541b0635b57",
   "metadata": {},
   "outputs": [
    {
     "name": "stdout",
     "output_type": "stream",
     "text": [
      "Доля неверно расположенных боксов: 0.29\n"
     ]
    }
   ],
   "source": [
    "mismatch = len(tp[tp.iou < 0.5]) / len(tp)\n",
    "print(f'Доля неверно расположенных боксов: {mismatch:.2f}')"
   ]
  },
  {
   "cell_type": "markdown",
   "id": "80b57b08-545b-4882-9370-97e3a3c1951b",
   "metadata": {},
   "source": [
    "## Заключение"
   ]
  },
  {
   "cell_type": "code",
   "execution_count": 23,
   "id": "0211d9e2-535e-4958-a6f2-7c58403c10e5",
   "metadata": {},
   "outputs": [
    {
     "data": {
      "image/png": "[encoded data removed]",
      "text/plain": [
       "<Figure size 640x480 with 2 Axes>"
      ]
     },
     "metadata": {},
     "output_type": "display_data"
    }
   ],
   "source": [
    "sns.heatmap(cm, annot=True)\n",
    "plt.xlabel('predictions')\n",
    "plt.ylabel('ground_truth')\n",
    "plt.show()"
   ]
  },
  {
   "cell_type": "markdown",
   "id": "50fb3742-ab54-4e33-8940-fa8b34e6161f",
   "metadata": {},
   "source": [
    "Доля правильно класиифицированных изображений (метрика Accuracy) составляет 0.86. Доля правильно предсказанных положительных объектов (метрика Precision) составляет 0.8. Модель отметила все изображения, имеющие положительные метки, как положительные (метрика Recall равна 1). Несмотря на верную классификацию всех положительных объектов, у порядка 29% из них модель отметила неправильную область изображения с объектом. В среднем же степень перекрытия между предсказанным боксом и истинным боксом (метрика IoU) составляет 0.58"
   ]
  },
  {
   "cell_type": "code",
   "execution_count": null,
   "id": "1ab7d6e7-d49d-47c9-8dfc-61cb4eaf5726",
   "metadata": {},
   "outputs": [],
   "source": []
  }
 ],
 "metadata": {
  "kernelspec": {
   "display_name": "Python 3 (ipykernel)",
   "language": "python",
   "name": "python3"
  },
  "language_info": {
   "codemirror_mode": {
    "name": "ipython",
    "version": 3
   },
   "file_extension": ".py",
   "mimetype": "text/x-python",
   "name": "python",
   "nbconvert_exporter": "python",
   "pygments_lexer": "ipython3",
   "version": "3.9.13"
  }
 },
 "nbformat": 4,
 "nbformat_minor": 5
}
